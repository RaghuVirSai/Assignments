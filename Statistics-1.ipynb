{
 "cells": [
  {
   "cell_type": "markdown",
   "metadata": {},
   "source": [
    "# STATISTICS--1"
   ]
  },
  {
   "cell_type": "markdown",
   "metadata": {},
   "source": [
    "1.You survey households in your area to find the average rent they are paying. Find the \n",
    "standard deviation from the following data:\n",
    " \n"
   ]
  },
  {
   "cell_type": "markdown",
   "metadata": {},
   "source": [
    "### $1550, $1700, $900, $850, $1000, $950."
   ]
  },
  {
   "cell_type": "code",
   "execution_count": 1,
   "metadata": {},
   "outputs": [
    {
     "name": "stdout",
     "output_type": "stream",
     "text": [
      "The average rent paid is $: 1158.33\n",
      "The standard deviation of the data is $ 335.93\n"
     ]
    }
   ],
   "source": [
    "import numpy as np \n",
    "import statistics as stat\n",
    "dataset=[1550,1700,900,850,1000,950]\n",
    "Average= stat.mean(dataset)\n",
    "print('The average rent paid is $:', round(Average,2))\n",
    "Population_std = round (stat.pstdev(dataset),2)\n",
    "print('The standard deviation of the data is $', Population_std)"
   ]
  },
  {
   "cell_type": "markdown",
   "metadata": {},
   "source": [
    "2.Find the variance for the following set of data representing trees in California (heights in \n",
    "feet): 3, 21, 98, 203, 17, 9\n"
   ]
  },
  {
   "cell_type": "code",
   "execution_count": 12,
   "metadata": {},
   "outputs": [
    {
     "name": "stdout",
     "output_type": "stream",
     "text": [
      "The Variance of the data is 5183.25 feet\n"
     ]
    }
   ],
   "source": [
    "Trees=[3,21,98,203,17,9]\n",
    "Variance = stat.pvariance(Trees)\n",
    "print('The Variance of the data is', Variance, 'feet')"
   ]
  },
  {
   "cell_type": "markdown",
   "metadata": {},
   "source": [
    "3.In a class on 100 students, 80 students passed in all subjects, 10 failed in one subject, 7 \n",
    "failed in two subjects and 3 failed in three subjects. Find the probability distribution of \n",
    "the variable for number of subjects a student from the given class has failed in."
   ]
  },
  {
   "cell_type": "code",
   "execution_count": 2,
   "metadata": {},
   "outputs": [],
   "source": [
    "import numpy as np\n",
    "import pandas as pd\n",
    "import matplotlib.pyplot as plt\n",
    "import seaborn as sns\n",
    "sns.set(style=\"ticks\")\n",
    "%matplotlib inline\n",
    "plt.show()"
   ]
  },
  {
   "cell_type": "code",
   "execution_count": 3,
   "metadata": {},
   "outputs": [
    {
     "name": "stdout",
     "output_type": "stream",
     "text": [
      "probability distribution:\n",
      "{'passed_all': 0.8, 'failed_one': 0.1, 'failed_two': 0.07, 'failed_three': 0.03}\n"
     ]
    },
    {
     "data": {
      "text/plain": [
       "<matplotlib.axes._subplots.AxesSubplot at 0x24107418780>"
      ]
     },
     "execution_count": 3,
     "metadata": {},
     "output_type": "execute_result"
    },
    {
     "data": {
      "image/png": "[encoded data removed]",
      "text/plain": [
       "<Figure size 720x360 with 1 Axes>"
      ]
     },
     "metadata": {
      "needs_background": "light"
     },
     "output_type": "display_data"
    }
   ],
   "source": [
    "n_students = 100\n",
    "passed_all = 80\n",
    "failed_one = 10\n",
    "failed_two = 7\n",
    "failed_three = 3\n",
    "\n",
    "\n",
    "prob_failed_none = passed_all /n_students\n",
    "prob_failed_in_one = failed_one /n_students\n",
    "prob_failed_in_two = failed_two /n_students\n",
    "prob_failed_in_three = failed_three /n_students\n",
    "\n",
    "probability={'passed_all': prob_failed_none,'failed_one': prob_failed_in_one,'failed_two':prob_failed_in_two,'failed_three': prob_failed_in_three} \n",
    "print('probability distribution:')\n",
    "print(probability)\n",
    "\n",
    "plt.figure(figsize=(10,5))\n",
    "plt.yticks(np.arange(0,1,0.05))\n",
    "sns.barplot(x=list(probability.keys()), y= list(probability.values()))"
   ]
  },
  {
   "cell_type": "code",
   "execution_count": null,
   "metadata": {},
   "outputs": [],
   "source": []
  }
 ],
 "metadata": {
  "kernelspec": {
   "display_name": "Python 3",
   "language": "python",
   "name": "python3"
  },
  "language_info": {
   "codemirror_mode": {
    "name": "ipython",
    "version": 3
   },
   "file_extension": ".py",
   "mimetype": "text/x-python",
   "name": "python",
   "nbconvert_exporter": "python",
   "pygments_lexer": "ipython3",
   "version": "3.7.3"
  }
 },
 "nbformat": 4,
 "nbformat_minor": 2
}
